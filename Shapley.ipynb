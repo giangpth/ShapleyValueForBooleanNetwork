{
 "cells": [
  {
   "cell_type": "code",
   "execution_count": 1,
   "id": "a2d571d2",
   "metadata": {},
   "outputs": [],
   "source": [
    "import roadrunner\n",
    "import roadrunner.tests\n",
    "import numpy as np\n",
    "import numpy.linalg as lin "
   ]
  },
  {
   "cell_type": "code",
   "execution_count": 21,
   "id": "c678b29d",
   "metadata": {},
   "outputs": [
    {
     "name": "stdout",
     "output_type": "stream",
     "text": [
      "<roadrunner.RoadRunner() { \n",
      "'this' : 0x600000eac120\n",
      "'modelLoaded' : true\n",
      "'modelName' : CD4+ T cell Differentiation\n",
      "'libSBMLVersion' : LibSBML Version: 5.19.5\n",
      "'jacobianStepSize' : 1e-05\n",
      "'conservedMoietyAnalysis' : false\n",
      "'simulateOptions' : \n",
      "< roadrunner.SimulateOptions() \n",
      "{ \n",
      "'this' : 0x7fba147f1008, \n",
      "'reset' : 0,\n",
      "'structuredResult' : 0,\n",
      "'copyResult' : 1,\n",
      "'steps' : 50,\n",
      "'start' : 0,\n",
      "'duration' : 5\n",
      "'output_file' : \n",
      "}>, \n",
      "'integrator' : \n",
      "< roadrunner.Integrator() >\n",
      "  name: cvode\n",
      "  settings:\n",
      "      relative_tolerance: 1e-06\n",
      "      absolute_tolerance: 1e-12\n",
      "                   stiff: true\n",
      "       maximum_bdf_order: 5\n",
      "     maximum_adams_order: 12\n",
      "       maximum_num_steps: 20000\n",
      "       maximum_time_step: 0\n",
      "       minimum_time_step: 0\n",
      "       initial_time_step: 0\n",
      "          multiple_steps: false\n",
      "      variable_step_size: false\n",
      "         max_output_rows: 100000\n",
      "\n",
      "}>\n"
     ]
    },
    {
     "data": {
      "text/plain": [
       "['extracellular', 'cytosol', 'init(extracellular)', 'init(cytosol)']"
      ]
     },
     "execution_count": 21,
     "metadata": {},
     "output_type": "execute_result"
    }
   ],
   "source": [
    "rr = roadrunner.RoadRunner('t4.sbml')\n",
    "print(rr)\n",
    "\n",
    "results = rr.simulate(0, 2000, 200)\n",
    "rr.plot(results)\n",
    "# print(results)\n",
    "rr.model.keys()"
   ]
  },
  {
   "cell_type": "code",
   "execution_count": 22,
   "id": "66743d81",
   "metadata": {},
   "outputs": [
    {
     "data": {
      "text/plain": [
       "1.0"
      ]
     },
     "execution_count": 22,
     "metadata": {},
     "output_type": "execute_result"
    }
   ],
   "source": [
    "rr.model[\"cytosol\"]"
   ]
  },
  {
   "cell_type": "code",
   "execution_count": null,
   "id": "36b08b7e",
   "metadata": {},
   "outputs": [],
   "source": []
  }
 ],
 "metadata": {
  "kernelspec": {
   "display_name": "Python 3 (ipykernel)",
   "language": "python",
   "name": "python3"
  },
  "language_info": {
   "codemirror_mode": {
    "name": "ipython",
    "version": 3
   },
   "file_extension": ".py",
   "mimetype": "text/x-python",
   "name": "python",
   "nbconvert_exporter": "python",
   "pygments_lexer": "ipython3",
   "version": "3.9.12"
  }
 },
 "nbformat": 4,
 "nbformat_minor": 5
}
